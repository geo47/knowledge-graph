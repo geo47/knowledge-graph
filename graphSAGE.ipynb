{
 "cells": [
  {
   "cell_type": "code",
   "execution_count": 1,
   "metadata": {
    "collapsed": true
   },
   "outputs": [],
   "source": [
    "from neo4j import GraphDatabase\n",
    "from neo4j.exceptions import ClientError\n",
    "from sklearn.manifold import TSNE\n",
    "\n",
    "import numpy as np\n",
    "import altair as alt\n",
    "import pandas as pd\n",
    "import os\n",
    "\n",
    "from module.neo4j.graph_db import GraphDB\n",
    "driver = GraphDatabase.driver(\"bolt://localhost:11012\", auth=(\"neo4j\", \"erclab\"))"
   ]
  },
  {
   "cell_type": "code",
   "execution_count": 6,
   "outputs": [],
   "source": [
    "with driver.session() as session:\n",
    "    session.run(\"\"\"\n",
    "                   CALL gds.graph.create(\n",
    "                   'recommendation_embeddings',\n",
    "                   {\n",
    "                    User: {\n",
    "                        label: 'User'\n",
    "                    },\n",
    "                    Restaurant: {\n",
    "                        label: 'Restaurant',\n",
    "                        properties: ['rating']\n",
    "                    }\n",
    "                   },{\n",
    "                    RATE: {\n",
    "                        type: 'RATE',\n",
    "                        orientation: 'UNDIRECTED',\n",
    "                        properties: ['star']\n",
    "                    }\n",
    "                    },\n",
    "                    {nodeProperties:embeddings})\n",
    "                   YIELD graphName, nodeCount, relationshipCount\n",
    "                   RETURN graphName, nodeCount, relationshipCount\"\"\")"
   ],
   "metadata": {
    "collapsed": false,
    "pycharm": {
     "name": "#%%\n"
    }
   }
  },
  {
   "cell_type": "code",
   "execution_count": 4,
   "outputs": [],
   "source": [
    "with driver.session() as session:\n",
    "    session.run(\"\"\"\n",
    "        UNWIND range(0,49) as i\n",
    "        WITH collect('embedding_' + toString(i)) as embeddings\n",
    "        CALL gds.beta.graphSage.train('train',{\n",
    "          modelName:'foodModel',\n",
    "          aggregator:'pool',\n",
    "          batchSize:512,\n",
    "          activationFunction:'relu',\n",
    "          epochs:10,\n",
    "          sampleSizes:[25,10],\n",
    "          learningRate:0.0000001,\n",
    "          embeddingDimension:256,\n",
    "          featureProperties:embeddings})\n",
    "        YIELD modelInfo\n",
    "        RETURN modelInfo\"\"\")"
   ],
   "metadata": {
    "collapsed": false,
    "pycharm": {
     "name": "#%%\n"
    }
   }
  },
  {
   "cell_type": "code",
   "execution_count": 5,
   "outputs": [],
   "source": [
    "with driver.session() as session:\n",
    "    session.run(\"\"\"\n",
    "        UNWIND range(0,49) as i\n",
    "        WITH collect('embedding_' + toString(i)) as embeddings\n",
    "        CALL gds.graph.create('test','Test',{INTERACTS:{orientation:'UNDIRECTED'}},\n",
    "          {nodeProperties:embeddings})\n",
    "        YIELD graphName, nodeCount, relationshipCount\n",
    "        RETURN graphName, nodeCount, relationshipCount\"\"\")"
   ],
   "metadata": {
    "collapsed": false,
    "pycharm": {
     "name": "#%%\n"
    }
   }
  }
 ],
 "metadata": {
  "kernelspec": {
   "name": "python3710jvsc74a57bd01508a50711aae2ba0e8d574b6d5c67013664d9007b469c2d27777972b4586967",
   "language": "python",
   "display_name": "Python 3.7.10 64-bit ('py37_spacy': conda)"
  },
  "language_info": {
   "codemirror_mode": {
    "name": "ipython",
    "version": 2
   },
   "file_extension": ".py",
   "mimetype": "text/x-python",
   "name": "python",
   "nbconvert_exporter": "python",
   "pygments_lexer": "ipython2",
   "version": "2.7.6"
  }
 },
 "nbformat": 4,
 "nbformat_minor": 0
}