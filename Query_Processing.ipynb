{
 "cells": [
  {
   "cell_type": "code",
   "execution_count": 1,
   "metadata": {
    "collapsed": true
   },
   "outputs": [],
   "source": [
    "import spacy\n",
    "from spacy import displacy\n",
    "\n",
    "import pandas as pd\n",
    "from spacy.matcher import Matcher\n",
    "\n",
    "nlp  = spacy.load('en_core_web_sm')"
   ]
  },
  {
   "cell_type": "code",
   "execution_count": 13,
   "outputs": [],
   "source": [
    "output_path = \"./data/output/\"\n",
    "ner_pickles_op = output_path + \"ner/\"\n",
    "cr_pickles_op = output_path + \"cr/\"\n",
    "\n",
    "''' read restaurant knowledgebase data '''\n",
    "knowledge_base_entities = r\"data/kb/entities/\"\n",
    "kb_restaurant_file = knowledge_base_entities + \"restaurant.csv\"\n",
    "kb_menu_file = knowledge_base_entities + \"menu.csv\"\n",
    "kb_menu_file1 = knowledge_base_entities + \"menu1.csv\"\n",
    "kb_general_file = knowledge_base_entities + \"general.csv\"\n",
    "kb_restaurant_aspects_file = knowledge_base_entities + \"restaurant_aspects.csv\"\n",
    "kb_menu_aspects_file = knowledge_base_entities + \"menu_attrs.csv\"\n",
    "\n",
    "entity_headers = ['Name', 'Label']\n"
   ],
   "metadata": {
    "collapsed": false,
    "pycharm": {
     "name": "#%%\n"
    }
   }
  },
  {
   "cell_type": "code",
   "execution_count": 11,
   "outputs": [],
   "source": [
    "# Changing the dataset\n",
    "# i.e.\n",
    "###\n",
    "#   Silver Spoon,b-nbf4o8gUP2y9JKFE2wBO2A,HAS_MENU,Butter Chicken,Butter_Chicken\n",
    "#   Great,Great,MENU_ATTR_FOR,Silver Spoon,b-nbf4o8gUP2y9JKFE2wBO2A\n",
    "#   Butter Chicken,Butter_Chicken,IS,Great,Great\n",
    "#\n",
    "#   Silver Spoon,b-nbf4o8gUP2y9JKFE2wBO2A,HAS_ASPECT,Staff,Staff\n",
    "#   Nice,Nice,ASPECT_ATTR_FOR,Silver Spoon,b-nbf4o8gUP2y9JKFE2wBO2A\n",
    "#   Staff,Staff,IS,Nice,Nice\n",
    "###\n",
    "\n",
    "import pandas as pd\n",
    "df = pd.read_csv(\"data/output/kg/input_data.txt-out2.csv\", sep=\",\")\n",
    "\n",
    "for index, row in df.iterrows():\n",
    "    if row[\"relation\"] == \"HAS_MENU\":\n",
    "        # print(row[\"relation\"])\n",
    "        # print(df.loc[index][\"relation\"])\n",
    "        # print(df.loc[index+1][\"relation\"])\n",
    "        # print(df.loc[index+2][\"relation\"])\n",
    "        # print(\"######\")\n",
    "\n",
    "        if df.loc[index+1][\"relation\"] == \"MENU_ATTR_FOR\" and \\\n",
    "            df.loc[index+2][\"relation\"] == \"IS\":\n",
    "            df.loc[index+1][\"subject\"] = df.loc[index][\"object\"]+\"_\"+df.loc[index+1][\"subject\"]\n",
    "            df.loc[index+2][\"object\"] = df.loc[index+1][\"subject\"]\n",
    "\n",
    "    if row[\"relation\"] == \"HAS_ASPECT\":\n",
    "        if df.loc[index+1][\"relation\"] == \"ASPECT_ATTR_FOR\" and \\\n",
    "            df.loc[index+2][\"relation\"] == \"IS\":\n",
    "            df.loc[index+1][\"subject\"] = df.loc[index][\"object\"]+\"_\"+df.loc[index+1][\"subject\"]\n",
    "            df.loc[index+2][\"object\"] = df.loc[index+1][\"subject\"]\n",
    "\n",
    "for index, row in df.iterrows():\n",
    "    if row[\"relation\"] == \"MENU_ATTR_FOR\":\n",
    "        if df.loc[index+1][\"relation\"] == \"IS\":\n",
    "            if df.loc[index][\"subject\"] != '_'.join([s for s in df.loc[index+1][\"sub_ent\"].split()]) +\"_\"+'_'.join([s for s in df.loc[index][\"sub_ent\"].split()]):\n",
    "                df.loc[index][\"subject\"] = df.loc[index+1][\"subject\"]+\"_\"+df.loc[index][\"subject\"]\n",
    "                df.loc[index+1][\"object\"] = df.loc[index][\"subject\"]\n",
    "\n",
    "    if row[\"relation\"] == \"ASPECT_ATTR_FOR\":\n",
    "        if df.loc[index+1][\"relation\"] == \"IS\":\n",
    "            if df.loc[index][\"subject\"] != '_'.join([s for s in df.loc[index+1][\"sub_ent\"].split()]) +\"_\"+'_'.join([s for s in df.loc[index][\"sub_ent\"].split()]):\n",
    "                df.loc[index][\"subject\"] = df.loc[index+1][\"subject\"]+\"_\"+df.loc[index][\"subject\"]\n",
    "                df.loc[index+1][\"object\"] = df.loc[index][\"subject\"]\n",
    "\n",
    "df.to_csv(\"data/output/kg/input_data.txt-out4.csv\", index=False)\n"
   ],
   "metadata": {
    "collapsed": false,
    "pycharm": {
     "name": "#%%\n"
    }
   }
  },
  {
   "cell_type": "code",
   "execution_count": 16,
   "outputs": [],
   "source": [
    "''' make dataframes for kb '''\n",
    "kb_restaurant_df = pd.read_csv(kb_restaurant_file, header=0, names=entity_headers)\n",
    "kb_menu_df = pd.read_csv(kb_menu_file, header=0, names=entity_headers)\n",
    "# kb_general_df = pd.read_csv(kb_general_file, header=0, names=['Name', 'Label'])\n",
    "kb_restaurant_aspects_df = pd.read_csv(kb_restaurant_aspects_file, header=0, names=entity_headers)\n",
    "kb_menu_aspects_df = pd.read_csv(kb_menu_aspects_file, header=0, names=entity_headers)\n",
    "\n"
   ],
   "metadata": {
    "collapsed": false,
    "pycharm": {
     "name": "#%%\n"
    }
   }
  },
  {
   "cell_type": "code",
   "execution_count": 2,
   "outputs": [],
   "source": [
    "kb_entities = {\n",
    "    \"Category\": [\"Chinese\", \"Indian\", \"Korean\", \"Italian\", \"Mexican\"],\n",
    "    \"Attr\": [\"Good\", \"Sweet\", \"Spicy\", \"Friendly\"],\n",
    "    \"Aspect\": [\"Service\", \"Take out\", \"Staff\", \"Parking\"],\n",
    "    \"City\": [\"Toronto\", \"Seoul\", \"New York\"],\n",
    "    \"Menu\": [\"Noodles\", \"Chicken Biryani\", \"Kimchi\"]\n",
    "}\n",
    "# \"\", \"find\", \"search\", \"recommend\", \"suggest\" __ \"restaurant|restaurants\"\n",
    "# \"\", \"what\", \"which\" __ \"menu|menus\"\n",
    "kb_rel = {\n",
    "    \"Category\": {\"in\": [\"HAS_CATEGORY\"], \"out\": []},\n",
    "    \"Attr\": {\"in\": [\"IS\"], \"out\": [\"MENU_ATTR_FOR\"]},\n",
    "    \"Aspect\": {\"in\": [\"HAS_ASPECT\"], \"out\": [\"ASPECT_ATTR_FOR\", \"IS\"]},\n",
    "    \"City\": {\"in\": [\"LOCATED_IN\"], \"out\": [\"LOCATED_IN\"]},\n",
    "    \"Menu\": {\"in\": [\"HAS_MENU\", \"ORDER\"], \"out\": [\"IS\"]}\n",
    "}"
   ],
   "metadata": {
    "collapsed": false,
    "pycharm": {
     "name": "#%%\n"
    }
   }
  },
  {
   "cell_type": "code",
   "execution_count": 12,
   "outputs": [
    {
     "name": "stdout",
     "output_type": "stream",
     "text": [
      "[('Chinese', 'NORP'), ('Toronto', 'GPE'), ('seoul', 'GPE'), ('Chicken Biryani', 'PERSON')]\n",
      "['VERB', 'ADJ', 'ADJ', 'NOUN', 'ADP', 'PROPN', 'CCONJ', 'PROPN', 'DET', 'VERB', 'ADJ', 'NOUN', 'CCONJ', 'NOUN', 'PROPN', 'PROPN']\n"
     ]
    }
   ],
   "source": [
    "text = \"Recommend best Chinese restaurant in Toronto or seoul which serves sweet Noodles and spicy Chicken Biryani\"\n",
    "\n",
    "\n",
    "doc = nlp(text)\n",
    "print([(ent.text, ent.label_) for ent in doc.ents])\n",
    "\n",
    "# verbs = [tok for tok in doc if tok.pos_ == \"VERB\"]\n",
    "toks = [tok.pos_ for tok in doc]\n",
    "print(toks)\n",
    "\n",
    "triplets = []\n"
   ],
   "metadata": {
    "collapsed": false,
    "pycharm": {
     "name": "#%%\n"
    }
   }
  },
  {
   "cell_type": "code",
   "execution_count": 8,
   "outputs": [
    {
     "name": "stdout",
     "output_type": "stream",
     "text": [
      "6\n",
      "[]\n",
      "[]\n",
      "12\n",
      "[]\n",
      "[]\n"
     ]
    }
   ],
   "source": [
    "text = \"Recommend best Chinese restaurant in Toronto or seoul which serves sweet Noodles and spicy Chicken Biryani\"\n",
    "doc = nlp(text)\n",
    "\n",
    "verbs = [tok for tok in doc if tok.pos_ == \"CCONJ\"]\n",
    "\n",
    "# getting sub, verb, obj triples\n",
    "# Angela, visit, silver spoon restaurant\n",
    "for v in verbs:\n",
    "    # print(v.lefts)\n",
    "    # print(v.rights)\n",
    "    # for tok in v.lefts:\n",
    "        # print(tok)\n",
    "    # print([token.text for token in doc[2].lefts])  # ['bright', 'red']\n",
    "    # print([token.text for token in doc[2].rights])  # ['on']\n",
    "\n",
    "    print(v.i)\n",
    "    left_tok = [tok.text for tok in doc[v.i].lefts]\n",
    "    right_tok = [tok.text for tok in v.rights]\n",
    "\n",
    "    print(left_tok)\n",
    "    print(right_tok)"
   ],
   "metadata": {
    "collapsed": false,
    "pycharm": {
     "name": "#%%\n"
    }
   }
  },
  {
   "cell_type": "code",
   "execution_count": 6,
   "outputs": [
    {
     "data": {
      "text/plain": "<IPython.core.display.HTML object>",
      "text/html": "<span class=\"tex2jax_ignore\"><svg xmlns=\"http://www.w3.org/2000/svg\" xmlns:xlink=\"http://www.w3.org/1999/xlink\" xml:lang=\"en\" id=\"2feb913b596240efa521d940ff462788-0\" class=\"displacy\" width=\"2850\" height=\"574.5\" direction=\"ltr\" style=\"max-width: none; height: 574.5px; color: #000000; background: #ffffff; font-family: Arial; direction: ltr\">\n<text class=\"displacy-token\" fill=\"currentColor\" text-anchor=\"middle\" y=\"484.5\">\n    <tspan class=\"displacy-word\" fill=\"currentColor\" x=\"50\">Recommend</tspan>\n    <tspan class=\"displacy-tag\" dy=\"2em\" fill=\"currentColor\" x=\"50\">VERB</tspan>\n</text>\n\n<text class=\"displacy-token\" fill=\"currentColor\" text-anchor=\"middle\" y=\"484.5\">\n    <tspan class=\"displacy-word\" fill=\"currentColor\" x=\"225\">best</tspan>\n    <tspan class=\"displacy-tag\" dy=\"2em\" fill=\"currentColor\" x=\"225\">ADJ</tspan>\n</text>\n\n<text class=\"displacy-token\" fill=\"currentColor\" text-anchor=\"middle\" y=\"484.5\">\n    <tspan class=\"displacy-word\" fill=\"currentColor\" x=\"400\">Chinese</tspan>\n    <tspan class=\"displacy-tag\" dy=\"2em\" fill=\"currentColor\" x=\"400\">ADJ</tspan>\n</text>\n\n<text class=\"displacy-token\" fill=\"currentColor\" text-anchor=\"middle\" y=\"484.5\">\n    <tspan class=\"displacy-word\" fill=\"currentColor\" x=\"575\">restaurant</tspan>\n    <tspan class=\"displacy-tag\" dy=\"2em\" fill=\"currentColor\" x=\"575\">NOUN</tspan>\n</text>\n\n<text class=\"displacy-token\" fill=\"currentColor\" text-anchor=\"middle\" y=\"484.5\">\n    <tspan class=\"displacy-word\" fill=\"currentColor\" x=\"750\">in</tspan>\n    <tspan class=\"displacy-tag\" dy=\"2em\" fill=\"currentColor\" x=\"750\">ADP</tspan>\n</text>\n\n<text class=\"displacy-token\" fill=\"currentColor\" text-anchor=\"middle\" y=\"484.5\">\n    <tspan class=\"displacy-word\" fill=\"currentColor\" x=\"925\">Toronto</tspan>\n    <tspan class=\"displacy-tag\" dy=\"2em\" fill=\"currentColor\" x=\"925\">PROPN</tspan>\n</text>\n\n<text class=\"displacy-token\" fill=\"currentColor\" text-anchor=\"middle\" y=\"484.5\">\n    <tspan class=\"displacy-word\" fill=\"currentColor\" x=\"1100\">or</tspan>\n    <tspan class=\"displacy-tag\" dy=\"2em\" fill=\"currentColor\" x=\"1100\">CCONJ</tspan>\n</text>\n\n<text class=\"displacy-token\" fill=\"currentColor\" text-anchor=\"middle\" y=\"484.5\">\n    <tspan class=\"displacy-word\" fill=\"currentColor\" x=\"1275\">seoul</tspan>\n    <tspan class=\"displacy-tag\" dy=\"2em\" fill=\"currentColor\" x=\"1275\">PROPN</tspan>\n</text>\n\n<text class=\"displacy-token\" fill=\"currentColor\" text-anchor=\"middle\" y=\"484.5\">\n    <tspan class=\"displacy-word\" fill=\"currentColor\" x=\"1450\">which</tspan>\n    <tspan class=\"displacy-tag\" dy=\"2em\" fill=\"currentColor\" x=\"1450\">DET</tspan>\n</text>\n\n<text class=\"displacy-token\" fill=\"currentColor\" text-anchor=\"middle\" y=\"484.5\">\n    <tspan class=\"displacy-word\" fill=\"currentColor\" x=\"1625\">serves</tspan>\n    <tspan class=\"displacy-tag\" dy=\"2em\" fill=\"currentColor\" x=\"1625\">VERB</tspan>\n</text>\n\n<text class=\"displacy-token\" fill=\"currentColor\" text-anchor=\"middle\" y=\"484.5\">\n    <tspan class=\"displacy-word\" fill=\"currentColor\" x=\"1800\">sweet</tspan>\n    <tspan class=\"displacy-tag\" dy=\"2em\" fill=\"currentColor\" x=\"1800\">ADJ</tspan>\n</text>\n\n<text class=\"displacy-token\" fill=\"currentColor\" text-anchor=\"middle\" y=\"484.5\">\n    <tspan class=\"displacy-word\" fill=\"currentColor\" x=\"1975\">Noodles</tspan>\n    <tspan class=\"displacy-tag\" dy=\"2em\" fill=\"currentColor\" x=\"1975\">NOUN</tspan>\n</text>\n\n<text class=\"displacy-token\" fill=\"currentColor\" text-anchor=\"middle\" y=\"484.5\">\n    <tspan class=\"displacy-word\" fill=\"currentColor\" x=\"2150\">and</tspan>\n    <tspan class=\"displacy-tag\" dy=\"2em\" fill=\"currentColor\" x=\"2150\">CCONJ</tspan>\n</text>\n\n<text class=\"displacy-token\" fill=\"currentColor\" text-anchor=\"middle\" y=\"484.5\">\n    <tspan class=\"displacy-word\" fill=\"currentColor\" x=\"2325\">spicy</tspan>\n    <tspan class=\"displacy-tag\" dy=\"2em\" fill=\"currentColor\" x=\"2325\">NOUN</tspan>\n</text>\n\n<text class=\"displacy-token\" fill=\"currentColor\" text-anchor=\"middle\" y=\"484.5\">\n    <tspan class=\"displacy-word\" fill=\"currentColor\" x=\"2500\">Chicken</tspan>\n    <tspan class=\"displacy-tag\" dy=\"2em\" fill=\"currentColor\" x=\"2500\">PROPN</tspan>\n</text>\n\n<text class=\"displacy-token\" fill=\"currentColor\" text-anchor=\"middle\" y=\"484.5\">\n    <tspan class=\"displacy-word\" fill=\"currentColor\" x=\"2675\">Biryani</tspan>\n    <tspan class=\"displacy-tag\" dy=\"2em\" fill=\"currentColor\" x=\"2675\">PROPN</tspan>\n</text>\n\n<g class=\"displacy-arrow\">\n    <path class=\"displacy-arc\" id=\"arrow-2feb913b596240efa521d940ff462788-0-0\" stroke-width=\"2px\" d=\"M245,439.5 C245,264.5 560.0,264.5 560.0,439.5\" fill=\"none\" stroke=\"currentColor\"/>\n    <text dy=\"1.25em\" style=\"font-size: 0.8em; letter-spacing: 1px\">\n        <textPath xlink:href=\"#arrow-2feb913b596240efa521d940ff462788-0-0\" class=\"displacy-label\" startOffset=\"50%\" side=\"left\" fill=\"currentColor\" text-anchor=\"middle\">amod</textPath>\n    </text>\n    <path class=\"displacy-arrowhead\" d=\"M245,441.5 L237,429.5 253,429.5\" fill=\"currentColor\"/>\n</g>\n\n<g class=\"displacy-arrow\">\n    <path class=\"displacy-arc\" id=\"arrow-2feb913b596240efa521d940ff462788-0-1\" stroke-width=\"2px\" d=\"M420,439.5 C420,352.0 555.0,352.0 555.0,439.5\" fill=\"none\" stroke=\"currentColor\"/>\n    <text dy=\"1.25em\" style=\"font-size: 0.8em; letter-spacing: 1px\">\n        <textPath xlink:href=\"#arrow-2feb913b596240efa521d940ff462788-0-1\" class=\"displacy-label\" startOffset=\"50%\" side=\"left\" fill=\"currentColor\" text-anchor=\"middle\">amod</textPath>\n    </text>\n    <path class=\"displacy-arrowhead\" d=\"M420,441.5 L412,429.5 428,429.5\" fill=\"currentColor\"/>\n</g>\n\n<g class=\"displacy-arrow\">\n    <path class=\"displacy-arc\" id=\"arrow-2feb913b596240efa521d940ff462788-0-2\" stroke-width=\"2px\" d=\"M70,439.5 C70,177.0 565.0,177.0 565.0,439.5\" fill=\"none\" stroke=\"currentColor\"/>\n    <text dy=\"1.25em\" style=\"font-size: 0.8em; letter-spacing: 1px\">\n        <textPath xlink:href=\"#arrow-2feb913b596240efa521d940ff462788-0-2\" class=\"displacy-label\" startOffset=\"50%\" side=\"left\" fill=\"currentColor\" text-anchor=\"middle\">dobj</textPath>\n    </text>\n    <path class=\"displacy-arrowhead\" d=\"M565.0,441.5 L573.0,429.5 557.0,429.5\" fill=\"currentColor\"/>\n</g>\n\n<g class=\"displacy-arrow\">\n    <path class=\"displacy-arc\" id=\"arrow-2feb913b596240efa521d940ff462788-0-3\" stroke-width=\"2px\" d=\"M595,439.5 C595,352.0 730.0,352.0 730.0,439.5\" fill=\"none\" stroke=\"currentColor\"/>\n    <text dy=\"1.25em\" style=\"font-size: 0.8em; letter-spacing: 1px\">\n        <textPath xlink:href=\"#arrow-2feb913b596240efa521d940ff462788-0-3\" class=\"displacy-label\" startOffset=\"50%\" side=\"left\" fill=\"currentColor\" text-anchor=\"middle\">prep</textPath>\n    </text>\n    <path class=\"displacy-arrowhead\" d=\"M730.0,441.5 L738.0,429.5 722.0,429.5\" fill=\"currentColor\"/>\n</g>\n\n<g class=\"displacy-arrow\">\n    <path class=\"displacy-arc\" id=\"arrow-2feb913b596240efa521d940ff462788-0-4\" stroke-width=\"2px\" d=\"M770,439.5 C770,352.0 905.0,352.0 905.0,439.5\" fill=\"none\" stroke=\"currentColor\"/>\n    <text dy=\"1.25em\" style=\"font-size: 0.8em; letter-spacing: 1px\">\n        <textPath xlink:href=\"#arrow-2feb913b596240efa521d940ff462788-0-4\" class=\"displacy-label\" startOffset=\"50%\" side=\"left\" fill=\"currentColor\" text-anchor=\"middle\">pobj</textPath>\n    </text>\n    <path class=\"displacy-arrowhead\" d=\"M905.0,441.5 L913.0,429.5 897.0,429.5\" fill=\"currentColor\"/>\n</g>\n\n<g class=\"displacy-arrow\">\n    <path class=\"displacy-arc\" id=\"arrow-2feb913b596240efa521d940ff462788-0-5\" stroke-width=\"2px\" d=\"M595,439.5 C595,177.0 1090.0,177.0 1090.0,439.5\" fill=\"none\" stroke=\"currentColor\"/>\n    <text dy=\"1.25em\" style=\"font-size: 0.8em; letter-spacing: 1px\">\n        <textPath xlink:href=\"#arrow-2feb913b596240efa521d940ff462788-0-5\" class=\"displacy-label\" startOffset=\"50%\" side=\"left\" fill=\"currentColor\" text-anchor=\"middle\">cc</textPath>\n    </text>\n    <path class=\"displacy-arrowhead\" d=\"M1090.0,441.5 L1098.0,429.5 1082.0,429.5\" fill=\"currentColor\"/>\n</g>\n\n<g class=\"displacy-arrow\">\n    <path class=\"displacy-arc\" id=\"arrow-2feb913b596240efa521d940ff462788-0-6\" stroke-width=\"2px\" d=\"M595,439.5 C595,89.5 1270.0,89.5 1270.0,439.5\" fill=\"none\" stroke=\"currentColor\"/>\n    <text dy=\"1.25em\" style=\"font-size: 0.8em; letter-spacing: 1px\">\n        <textPath xlink:href=\"#arrow-2feb913b596240efa521d940ff462788-0-6\" class=\"displacy-label\" startOffset=\"50%\" side=\"left\" fill=\"currentColor\" text-anchor=\"middle\">conj</textPath>\n    </text>\n    <path class=\"displacy-arrowhead\" d=\"M1270.0,441.5 L1278.0,429.5 1262.0,429.5\" fill=\"currentColor\"/>\n</g>\n\n<g class=\"displacy-arrow\">\n    <path class=\"displacy-arc\" id=\"arrow-2feb913b596240efa521d940ff462788-0-7\" stroke-width=\"2px\" d=\"M1470,439.5 C1470,352.0 1605.0,352.0 1605.0,439.5\" fill=\"none\" stroke=\"currentColor\"/>\n    <text dy=\"1.25em\" style=\"font-size: 0.8em; letter-spacing: 1px\">\n        <textPath xlink:href=\"#arrow-2feb913b596240efa521d940ff462788-0-7\" class=\"displacy-label\" startOffset=\"50%\" side=\"left\" fill=\"currentColor\" text-anchor=\"middle\">nsubj</textPath>\n    </text>\n    <path class=\"displacy-arrowhead\" d=\"M1470,441.5 L1462,429.5 1478,429.5\" fill=\"currentColor\"/>\n</g>\n\n<g class=\"displacy-arrow\">\n    <path class=\"displacy-arc\" id=\"arrow-2feb913b596240efa521d940ff462788-0-8\" stroke-width=\"2px\" d=\"M595,439.5 C595,2.0 1625.0,2.0 1625.0,439.5\" fill=\"none\" stroke=\"currentColor\"/>\n    <text dy=\"1.25em\" style=\"font-size: 0.8em; letter-spacing: 1px\">\n        <textPath xlink:href=\"#arrow-2feb913b596240efa521d940ff462788-0-8\" class=\"displacy-label\" startOffset=\"50%\" side=\"left\" fill=\"currentColor\" text-anchor=\"middle\">relcl</textPath>\n    </text>\n    <path class=\"displacy-arrowhead\" d=\"M1625.0,441.5 L1633.0,429.5 1617.0,429.5\" fill=\"currentColor\"/>\n</g>\n\n<g class=\"displacy-arrow\">\n    <path class=\"displacy-arc\" id=\"arrow-2feb913b596240efa521d940ff462788-0-9\" stroke-width=\"2px\" d=\"M1820,439.5 C1820,352.0 1955.0,352.0 1955.0,439.5\" fill=\"none\" stroke=\"currentColor\"/>\n    <text dy=\"1.25em\" style=\"font-size: 0.8em; letter-spacing: 1px\">\n        <textPath xlink:href=\"#arrow-2feb913b596240efa521d940ff462788-0-9\" class=\"displacy-label\" startOffset=\"50%\" side=\"left\" fill=\"currentColor\" text-anchor=\"middle\">amod</textPath>\n    </text>\n    <path class=\"displacy-arrowhead\" d=\"M1820,441.5 L1812,429.5 1828,429.5\" fill=\"currentColor\"/>\n</g>\n\n<g class=\"displacy-arrow\">\n    <path class=\"displacy-arc\" id=\"arrow-2feb913b596240efa521d940ff462788-0-10\" stroke-width=\"2px\" d=\"M1645,439.5 C1645,264.5 1960.0,264.5 1960.0,439.5\" fill=\"none\" stroke=\"currentColor\"/>\n    <text dy=\"1.25em\" style=\"font-size: 0.8em; letter-spacing: 1px\">\n        <textPath xlink:href=\"#arrow-2feb913b596240efa521d940ff462788-0-10\" class=\"displacy-label\" startOffset=\"50%\" side=\"left\" fill=\"currentColor\" text-anchor=\"middle\">dobj</textPath>\n    </text>\n    <path class=\"displacy-arrowhead\" d=\"M1960.0,441.5 L1968.0,429.5 1952.0,429.5\" fill=\"currentColor\"/>\n</g>\n\n<g class=\"displacy-arrow\">\n    <path class=\"displacy-arc\" id=\"arrow-2feb913b596240efa521d940ff462788-0-11\" stroke-width=\"2px\" d=\"M1995,439.5 C1995,352.0 2130.0,352.0 2130.0,439.5\" fill=\"none\" stroke=\"currentColor\"/>\n    <text dy=\"1.25em\" style=\"font-size: 0.8em; letter-spacing: 1px\">\n        <textPath xlink:href=\"#arrow-2feb913b596240efa521d940ff462788-0-11\" class=\"displacy-label\" startOffset=\"50%\" side=\"left\" fill=\"currentColor\" text-anchor=\"middle\">cc</textPath>\n    </text>\n    <path class=\"displacy-arrowhead\" d=\"M2130.0,441.5 L2138.0,429.5 2122.0,429.5\" fill=\"currentColor\"/>\n</g>\n\n<g class=\"displacy-arrow\">\n    <path class=\"displacy-arc\" id=\"arrow-2feb913b596240efa521d940ff462788-0-12\" stroke-width=\"2px\" d=\"M2345,439.5 C2345,264.5 2660.0,264.5 2660.0,439.5\" fill=\"none\" stroke=\"currentColor\"/>\n    <text dy=\"1.25em\" style=\"font-size: 0.8em; letter-spacing: 1px\">\n        <textPath xlink:href=\"#arrow-2feb913b596240efa521d940ff462788-0-12\" class=\"displacy-label\" startOffset=\"50%\" side=\"left\" fill=\"currentColor\" text-anchor=\"middle\">compound</textPath>\n    </text>\n    <path class=\"displacy-arrowhead\" d=\"M2345,441.5 L2337,429.5 2353,429.5\" fill=\"currentColor\"/>\n</g>\n\n<g class=\"displacy-arrow\">\n    <path class=\"displacy-arc\" id=\"arrow-2feb913b596240efa521d940ff462788-0-13\" stroke-width=\"2px\" d=\"M2520,439.5 C2520,352.0 2655.0,352.0 2655.0,439.5\" fill=\"none\" stroke=\"currentColor\"/>\n    <text dy=\"1.25em\" style=\"font-size: 0.8em; letter-spacing: 1px\">\n        <textPath xlink:href=\"#arrow-2feb913b596240efa521d940ff462788-0-13\" class=\"displacy-label\" startOffset=\"50%\" side=\"left\" fill=\"currentColor\" text-anchor=\"middle\">compound</textPath>\n    </text>\n    <path class=\"displacy-arrowhead\" d=\"M2520,441.5 L2512,429.5 2528,429.5\" fill=\"currentColor\"/>\n</g>\n\n<g class=\"displacy-arrow\">\n    <path class=\"displacy-arc\" id=\"arrow-2feb913b596240efa521d940ff462788-0-14\" stroke-width=\"2px\" d=\"M1995,439.5 C1995,89.5 2670.0,89.5 2670.0,439.5\" fill=\"none\" stroke=\"currentColor\"/>\n    <text dy=\"1.25em\" style=\"font-size: 0.8em; letter-spacing: 1px\">\n        <textPath xlink:href=\"#arrow-2feb913b596240efa521d940ff462788-0-14\" class=\"displacy-label\" startOffset=\"50%\" side=\"left\" fill=\"currentColor\" text-anchor=\"middle\">conj</textPath>\n    </text>\n    <path class=\"displacy-arrowhead\" d=\"M2670.0,441.5 L2678.0,429.5 2662.0,429.5\" fill=\"currentColor\"/>\n</g>\n</svg></span>"
     },
     "metadata": {},
     "output_type": "display_data"
    }
   ],
   "source": [
    "text = \"Recommend best Chinese restaurant in Toronto or seoul which serves sweet Noodles and spicy Chicken Biryani\"\n",
    "\n",
    "# Plot the dependency graph\n",
    "doc = nlp(text)\n",
    "displacy.render(doc, style='dep',jupyter=True)"
   ],
   "metadata": {
    "collapsed": false,
    "pycharm": {
     "name": "#%%\n"
    }
   }
  },
  {
   "cell_type": "code",
   "execution_count": 8,
   "outputs": [
    {
     "data": {
      "text/plain": "<IPython.core.display.HTML object>",
      "text/html": "<span class=\"tex2jax_ignore\"><div class=\"entities\" style=\"line-height: 2.5; direction: ltr\">Recommend best \n<mark class=\"entity\" style=\"background: #c887fb; padding: 0.45em 0.6em; margin: 0 0.25em; line-height: 1; border-radius: 0.35em;\">\n    Chinese\n    <span style=\"font-size: 0.8em; font-weight: bold; line-height: 1; border-radius: 0.35em; text-transform: uppercase; vertical-align: middle; margin-left: 0.5rem\">NORP</span>\n</mark>\n restaurant in \n<mark class=\"entity\" style=\"background: #feca74; padding: 0.45em 0.6em; margin: 0 0.25em; line-height: 1; border-radius: 0.35em;\">\n    Toronto\n    <span style=\"font-size: 0.8em; font-weight: bold; line-height: 1; border-radius: 0.35em; text-transform: uppercase; vertical-align: middle; margin-left: 0.5rem\">GPE</span>\n</mark>\n or \n<mark class=\"entity\" style=\"background: #feca74; padding: 0.45em 0.6em; margin: 0 0.25em; line-height: 1; border-radius: 0.35em;\">\n    New York\n    <span style=\"font-size: 0.8em; font-weight: bold; line-height: 1; border-radius: 0.35em; text-transform: uppercase; vertical-align: middle; margin-left: 0.5rem\">GPE</span>\n</mark>\n which serves sweet Noodles and spicy \n<mark class=\"entity\" style=\"background: #aa9cfc; padding: 0.45em 0.6em; margin: 0 0.25em; line-height: 1; border-radius: 0.35em;\">\n    Chicken Biryani\n    <span style=\"font-size: 0.8em; font-weight: bold; line-height: 1; border-radius: 0.35em; text-transform: uppercase; vertical-align: middle; margin-left: 0.5rem\">PERSON</span>\n</mark>\n</div></span>"
     },
     "metadata": {},
     "output_type": "display_data"
    }
   ],
   "source": [
    "text = \"Recommend best Chinese restaurant in Toronto or New York which serves sweet Noodles and spicy Chicken Biryani\"\n",
    "\n",
    "# Plot the dependency graph\n",
    "doc = nlp(text)\n",
    "displacy.render(doc, style='ent',jupyter=True)"
   ],
   "metadata": {
    "collapsed": false,
    "pycharm": {
     "name": "#%%\n"
    }
   }
  },
  {
   "cell_type": "code",
   "execution_count": 34,
   "outputs": [
    {
     "name": "stdout",
     "output_type": "stream",
     "text": [
      "[{'op': None, 'ent': 'Toronto'}, {'op': 'OR', 'ent': 'New York'}, {'op': 'AND', 'ent': 'Seoul'}]\n",
      "{}\n"
     ]
    }
   ],
   "source": [
    "from spacy.tokens import Span\n",
    "\n",
    "text = \"Recommend best Chinese restaurant in Toronto or New York and seoul which serves sweet Noodles and spicy Chicken Biryani\"\n",
    "doc = nlp(text)\n",
    "# print(doc.ents)\n",
    "#\n",
    "# for tok in doc:\n",
    "#   print(tok.text, tok.dep_, tok.pos_)\n",
    "\n",
    "location = []\n",
    "for ent in doc.ents:\n",
    "    if ent.label_ == \"GPE\" and ent.start != 0:\n",
    "            prev_token = doc[ent.start - 1]\n",
    "            if prev_token.text in (\"and\", \"or\"):\n",
    "                location.append({\"op\":prev_token.text.upper(), \"ent\":ent.text.title()})\n",
    "            else:\n",
    "                location.append({\"op\":None, \"ent\":ent.text.title()})\n",
    "print(location)\n",
    "\n",
    "\n",
    "def kb_lookup(dictionary, string):\n",
    "    return {key:val for key,val in dictionary.items() if any(string in s for s in val)}\n",
    "\n",
    "menus = kb_lookup(kb_entities, text)\n",
    "print(menus)"
   ],
   "metadata": {
    "collapsed": false,
    "pycharm": {
     "name": "#%%\n"
    }
   }
  },
  {
   "cell_type": "code",
   "execution_count": 41,
   "outputs": [
    {
     "name": "stdout",
     "output_type": "stream",
     "text": [
      "[{'Category': 'Chinese'}, {'City': 'Toronto'}, {'City': 'Seoul'}, {'City': 'New York'}, {'Menu': 'Noodles'}, {'Menu': 'Chicken Biryani'}]\n",
      "[[{'TEXT': 'Noodles'}], [{'TEXT': 'Chicken Biryani'}]]\n",
      "Matches: ['Noodles']\n"
     ]
    }
   ],
   "source": [
    "from spacy.vocab import Vocab\n",
    "vocab = Vocab(strings=[\"Butter Chicken\", \"Chicken Biryani\"])\n",
    "\n",
    "text = \"Recommend best Chinese restaurant in Toronto or New York and seoul which serves sweet Noodles and spicy Chicken Biryani\"\n",
    "doc = nlp(text)\n",
    "\n",
    "def kb_lookup(dictionary, string):\n",
    "    concepts = []\n",
    "    for key, val in dictionary.items():\n",
    "        if key != \"Attr\":\n",
    "            for concept in val:\n",
    "                if concept.lower() in string.lower():\n",
    "                    # if key == \"Menu\":\n",
    "                    #     print(string.index(concept))\n",
    "                    concepts.append({key: concept})\n",
    "    return concepts\n",
    "\n",
    "concepts = kb_lookup(kb_entities, text)\n",
    "print(concepts)\n",
    "\n",
    "patterns = []\n",
    "for concept in concepts:\n",
    "    for k,  v in concept.items():\n",
    "        if k == \"Menu\":\n",
    "            patterns.append([{\"TEXT\": v}])\n",
    "\n",
    "print(patterns)\n",
    "assert \"Noodles\" in nlp.vocab\n",
    "matcher = Matcher(vocab)\n",
    "\n",
    "matcher.add(\"menu_patter\", None, patterns[0])\n",
    "# Use the matcher on the doc\n",
    "matches = matcher(doc)\n",
    "print(\"Matches:\", [doc[start:end].text for match_id, start, end in matches])"
   ],
   "metadata": {
    "collapsed": false,
    "pycharm": {
     "name": "#%%\n"
    }
   }
  },
  {
   "cell_type": "code",
   "execution_count": null,
   "outputs": [],
   "source": [],
   "metadata": {
    "collapsed": false,
    "pycharm": {
     "name": "#%%\n"
    }
   }
  }
 ],
 "metadata": {
  "kernelspec": {
   "display_name": "Python 3",
   "language": "python",
   "name": "python3"
  },
  "language_info": {
   "codemirror_mode": {
    "name": "ipython",
    "version": 2
   },
   "file_extension": ".py",
   "mimetype": "text/x-python",
   "name": "python",
   "nbconvert_exporter": "python",
   "pygments_lexer": "ipython2",
   "version": "2.7.6"
  }
 },
 "nbformat": 4,
 "nbformat_minor": 0
}